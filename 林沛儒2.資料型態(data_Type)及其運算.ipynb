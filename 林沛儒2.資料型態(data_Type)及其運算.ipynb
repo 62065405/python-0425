{
  "nbformat": 4,
  "nbformat_minor": 0,
  "metadata": {
    "colab": {
      "name": "林沛儒 資料型態(data Type)及其運算.ipynb",
      "provenance": [],
      "authorship_tag": "ABX9TyNYtuc3UHLLf+lGWOe+Z93p",
      "include_colab_link": true
    },
    "kernelspec": {
      "name": "python3",
      "display_name": "Python 3"
    },
    "language_info": {
      "name": "python"
    }
  },
  "cells": [
    {
      "cell_type": "markdown",
      "metadata": {
        "id": "view-in-github",
        "colab_type": "text"
      },
      "source": [
        "<a href=\"https://colab.research.google.com/github/62065405/python-0425-/blob/main/%E6%9E%97%E6%B2%9B%E5%84%92_%E8%B3%87%E6%96%99%E5%9E%8B%E6%85%8B(data_Type)%E5%8F%8A%E5%85%B6%E9%81%8B%E7%AE%97.ipynb\" target=\"_parent\"><img src=\"https://colab.research.google.com/assets/colab-badge.svg\" alt=\"Open In Colab\"/></a>"
      ]
    },
    {
      "cell_type": "code",
      "metadata": {
        "colab": {
          "base_uri": "https://localhost:8080/"
        },
        "id": "mJPSDaQgMdTx",
        "outputId": "cb16e7ff-d8d6-42df-8e4b-a3750fa49a9a"
      },
      "source": [
        "a = 17555 / 8\n",
        "b = 1748745 // 3\n",
        "c = 174665454 % 5\n",
        "\n",
        "a,b,c"
      ],
      "execution_count": 1,
      "outputs": [
        {
          "output_type": "execute_result",
          "data": {
            "text/plain": [
              "(2194.375, 582915, 4)"
            ]
          },
          "metadata": {
            "tags": []
          },
          "execution_count": 1
        }
      ]
    },
    {
      "cell_type": "code",
      "metadata": {
        "colab": {
          "base_uri": "https://localhost:8080/"
        },
        "id": "M0XleiwxM8Z3",
        "outputId": "83c5166a-e2f5-4c42-cf03-70b4577b0455"
      },
      "source": [
        "x = 5\n",
        "print(x > 3 and x < 10)\n",
        "\n",
        "x = 55\n",
        "\n",
        "print(x > 3 and x < 10)"
      ],
      "execution_count": 3,
      "outputs": [
        {
          "output_type": "stream",
          "text": [
            "True\n",
            "False\n"
          ],
          "name": "stdout"
        }
      ]
    },
    {
      "cell_type": "markdown",
      "metadata": {
        "id": "RVFJwX8NNA8H"
      },
      "source": [
        "x=5 符合x>3 X<10為真 x=55 符合x>3 X<*10為錯*"
      ]
    },
    {
      "cell_type": "code",
      "metadata": {
        "colab": {
          "base_uri": "https://localhost:8080/"
        },
        "id": "I_b2vQccNVAe",
        "outputId": "ae7dde62-1306-485f-cab5-de367ac3b822"
      },
      "source": [
        "x = 5\n",
        "print(x > 3 or x < 4)\n"
      ],
      "execution_count": 4,
      "outputs": [
        {
          "output_type": "stream",
          "text": [
            "True\n"
          ],
          "name": "stdout"
        }
      ]
    },
    {
      "cell_type": "markdown",
      "metadata": {
        "id": "kCLVHF8pN92O"
      },
      "source": [
        "x=5 符合x>3 X<4為真"
      ]
    },
    {
      "cell_type": "code",
      "metadata": {
        "colab": {
          "base_uri": "https://localhost:8080/"
        },
        "id": "xTYPxiEhN4pe",
        "outputId": "a7857b9d-9bb0-4bda-e027-106d24f1e658"
      },
      "source": [
        "x = 5\n",
        "print(not(x > 3 and x < 10))\n"
      ],
      "execution_count": 5,
      "outputs": [
        {
          "output_type": "stream",
          "text": [
            "False\n"
          ],
          "name": "stdout"
        }
      ]
    },
    {
      "cell_type": "markdown",
      "metadata": {
        "id": "ld7fx0pZOBmd"
      },
      "source": [
        "x=5 符合x>3 X<10為真 但為not true 所以為false"
      ]
    },
    {
      "cell_type": "code",
      "metadata": {
        "colab": {
          "base_uri": "https://localhost:8080/"
        },
        "id": "z4u3nItyOS1-",
        "outputId": "26f76200-dd2f-45e1-f523-7f512344fef0"
      },
      "source": [
        "a = 1.000000000000000000000000000000000000000000000000000000000000000000000000000000000000000000000000000000000000000000000000004\n",
        "int(a)\n",
        "\n",
        "b = 0.9999999999999999999999999999999999999999999999999999999457897878787879787541549975754894944654649499464644694979797979977997\n",
        "int(a)"
      ],
      "execution_count": 6,
      "outputs": [
        {
          "output_type": "execute_result",
          "data": {
            "text/plain": [
              "1"
            ]
          },
          "metadata": {
            "tags": []
          },
          "execution_count": 6
        }
      ]
    },
    {
      "cell_type": "code",
      "metadata": {
        "colab": {
          "base_uri": "https://localhost:8080/"
        },
        "id": "KXlAsjJBOcoe",
        "outputId": "73d48339-72d0-4f58-f6bd-b15c56449dc7"
      },
      "source": [
        "var1 = 'byebye Python!'\n",
        "\n",
        "print(\"var1[0]: \", var1[0])\n",
        "print(\"var1[1:9]: \", var1[1:9]) "
      ],
      "execution_count": 7,
      "outputs": [
        {
          "output_type": "stream",
          "text": [
            "var1[0]:  b\n",
            "var1[1:9]:  yebye Py\n"
          ],
          "name": "stdout"
        }
      ]
    },
    {
      "cell_type": "code",
      "metadata": {
        "colab": {
          "base_uri": "https://localhost:8080/"
        },
        "id": "NMupNYIJOl-3",
        "outputId": "5a077446-2fe6-45bc-d291-25eb3419a3f4"
      },
      "source": [
        "b = \"Hello, World!,ahahahahhahahahhhhahaha i dont waant to see\"\n",
        "print(b[2:5])\n",
        "print(b[:5])\n",
        "print(b[2:])\n",
        "print(b[-5:-2])"
      ],
      "execution_count": 9,
      "outputs": [
        {
          "output_type": "stream",
          "text": [
            "llo\n",
            "Hello\n",
            "llo, World!,ahahahahhahahahhhhahaha i dont waant to see\n",
            "o s\n"
          ],
          "name": "stdout"
        }
      ]
    },
    {
      "cell_type": "code",
      "metadata": {
        "colab": {
          "base_uri": "https://localhost:8080/"
        },
        "id": "xolaxBSHOy90",
        "outputId": "cdf21c33-baa1-4895-b946-64eb2f9e2be2"
      },
      "source": [
        "str1='happy python daydaydayday'\n",
        "str2='    Oh! nonononononononon ononononono   '\n",
        "\n",
        "str4=str1 + str2  \n",
        "\n",
        "print(str4.capitalize())\n",
        "\n"
      ],
      "execution_count": 12,
      "outputs": [
        {
          "output_type": "stream",
          "text": [
            "Happy python daydaydayday    oh! nonononononononon ononononono   \n"
          ],
          "name": "stdout"
        }
      ]
    },
    {
      "cell_type": "markdown",
      "metadata": {
        "id": "laiBogMbPRa2"
      },
      "source": [
        ""
      ]
    },
    {
      "cell_type": "code",
      "metadata": {
        "colab": {
          "base_uri": "https://localhost:8080/"
        },
        "id": "nnkGJnzHPWsm",
        "outputId": "57099df0-c42a-4b48-cb4f-c70524920a5a"
      },
      "source": [
        "list1 = [21, 33, 14, 12, 32, 98,5555,3,33,555,2,5,2,5,2,5,2,5,25,]\n",
        "\n",
        "list1[1]\n",
        "list1[-2]\n",
        "list1[1:555]"
      ],
      "execution_count": 14,
      "outputs": [
        {
          "output_type": "execute_result",
          "data": {
            "text/plain": [
              "[33, 14, 12, 32, 98, 5555, 3, 33, 555, 2, 5, 2, 5, 2, 5, 2, 5, 25]"
            ]
          },
          "metadata": {
            "tags": []
          },
          "execution_count": 14
        }
      ]
    },
    {
      "cell_type": "code",
      "metadata": {
        "colab": {
          "base_uri": "https://localhost:8080/"
        },
        "id": "NBNCJi1kPcGV",
        "outputId": "39ec68de-d38d-4369-ed31-1c0241007f51"
      },
      "source": [
        "list1 = [21, 33, 14, 12, 32, 982225255,5655555555]\n",
        "\n",
        "len(list1)\n",
        "max(list1)\n",
        "min(list1)\n",
        "sum(list1)"
      ],
      "execution_count": 16,
      "outputs": [
        {
          "output_type": "execute_result",
          "data": {
            "text/plain": [
              "6637780922"
            ]
          },
          "metadata": {
            "tags": []
          },
          "execution_count": 16
        }
      ]
    },
    {
      "cell_type": "code",
      "metadata": {
        "colab": {
          "base_uri": "https://localhost:8080/"
        },
        "id": "vMxCstIXPkIW",
        "outputId": "a8145931-1477-439a-8a9f-c788f6ea4d6d"
      },
      "source": [
        "dict = {'Name': 'handsome DaDaLong', 'Age': 18, 'Class': 'First'}\n",
        "\n",
        "print(\"dict['Name']: \", dict['Name'])\n",
        "print(\"dict['Age']: \", dict['Age'])"
      ],
      "execution_count": 20,
      "outputs": [
        {
          "output_type": "stream",
          "text": [
            "dict['Name']:  handsome DaDaLong\n",
            "dict['Age']:  18\n"
          ],
          "name": "stdout"
        }
      ]
    },
    {
      "cell_type": "code",
      "metadata": {
        "colab": {
          "base_uri": "https://localhost:8080/"
        },
        "id": "El6ulpHNUrUT",
        "outputId": "6690f018-b35f-468b-f151-a83983793204"
      },
      "source": [
        "dict = {'Name': 'umbeliveable handsome DaDaLong', 'Age': 17, 'Class': 'no 1'}\n",
        "dict.items()"
      ],
      "execution_count": 21,
      "outputs": [
        {
          "output_type": "execute_result",
          "data": {
            "text/plain": [
              "dict_items([('Name', 'umbeliveable handsome DaDaLong'), ('Age', 17), ('Class', 'no 1')])"
            ]
          },
          "metadata": {
            "tags": []
          },
          "execution_count": 21
        }
      ]
    },
    {
      "cell_type": "code",
      "metadata": {
        "colab": {
          "base_uri": "https://localhost:8080/"
        },
        "id": "o_FIaDlMU336",
        "outputId": "fa973c5a-dff7-4187-b73f-c37eb4a26db0"
      },
      "source": [
        "dict = {'your Name': 'DaDaLong', 'Age': 18, 'Class': 'First'}\n",
        "list(dict.items())\n",
        "dict = {'your Name': 'DaDaLong', 'Age': 18, 'Class': 'First'}\n",
        "list(dict.keys())"
      ],
      "execution_count": 24,
      "outputs": [
        {
          "output_type": "execute_result",
          "data": {
            "text/plain": [
              "['your Name', 'Age', 'Class']"
            ]
          },
          "metadata": {
            "tags": []
          },
          "execution_count": 24
        }
      ]
    },
    {
      "cell_type": "code",
      "metadata": {
        "colab": {
          "base_uri": "https://localhost:8080/"
        },
        "id": "kVzDg3MHVE6S",
        "outputId": "b7fa2dd4-bcab-4f7c-be4b-f2b20b50ae5d"
      },
      "source": [
        "\n",
        "from queue import Queue\n",
        "q = Queue()\n",
        "q.put(1)\n",
        "q.put(2)\n",
        "q.put(3)\n",
        "q\n",
        "print(q.queue)\n",
        "q.get()"
      ],
      "execution_count": 25,
      "outputs": [
        {
          "output_type": "stream",
          "text": [
            "deque([1, 2, 3])\n"
          ],
          "name": "stdout"
        },
        {
          "output_type": "execute_result",
          "data": {
            "text/plain": [
              "1"
            ]
          },
          "metadata": {
            "tags": []
          },
          "execution_count": 25
        }
      ]
    }
  ]
}
