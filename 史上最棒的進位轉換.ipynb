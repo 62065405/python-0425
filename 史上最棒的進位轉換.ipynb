{
  "nbformat": 4,
  "nbformat_minor": 0,
  "metadata": {
    "colab": {
      "name": "史上最棒的進位轉換.ipynb",
      "provenance": [],
      "authorship_tag": "ABX9TyP7cJDo1wIrJjZ7rgTV2M+u",
      "include_colab_link": true
    },
    "kernelspec": {
      "name": "python3",
      "display_name": "Python 3"
    },
    "language_info": {
      "name": "python"
    }
  },
  "cells": [
    {
      "cell_type": "markdown",
      "metadata": {
        "id": "view-in-github",
        "colab_type": "text"
      },
      "source": [
        "<a href=\"https://colab.research.google.com/github/62065405/python-0425-/blob/main/%E5%8F%B2%E4%B8%8A%E6%9C%80%E6%A3%92%E7%9A%84%E9%80%B2%E4%BD%8D%E8%BD%89%E6%8F%9B.ipynb\" target=\"_parent\"><img src=\"https://colab.research.google.com/assets/colab-badge.svg\" alt=\"Open In Colab\"/></a>"
      ]
    },
    {
      "cell_type": "code",
      "metadata": {
        "colab": {
          "base_uri": "https://localhost:8080/",
          "height": 131
        },
        "id": "DiQxbm5CWIXF",
        "outputId": "1d5b1221-0504-4708-85c8-4a8139af5b35"
      },
      "source": [
        "bin(10) \n"
      ],
      "execution_count": 16,
      "outputs": [
        {
          "output_type": "error",
          "ename": "SyntaxError",
          "evalue": "ignored",
          "traceback": [
            "\u001b[0;36m  File \u001b[0;32m\"<ipython-input-16-311a441c06f6>\"\u001b[0;36m, line \u001b[0;32m2\u001b[0m\n\u001b[0;31m    bin int((\"g\"))\u001b[0m\n\u001b[0m          ^\u001b[0m\n\u001b[0;31mSyntaxError\u001b[0m\u001b[0;31m:\u001b[0m invalid syntax\n"
          ]
        }
      ]
    },
    {
      "cell_type": "code",
      "metadata": {
        "colab": {
          "base_uri": "https://localhost:8080/",
          "height": 35
        },
        "id": "K5c0l-68WmGh",
        "outputId": "a2f194e2-817a-4706-b195-114154bb4ed3"
      },
      "source": [
        " oct(55)"
      ],
      "execution_count": 6,
      "outputs": [
        {
          "output_type": "execute_result",
          "data": {
            "application/vnd.google.colaboratory.intrinsic+json": {
              "type": "string"
            },
            "text/plain": [
              "'0o67'"
            ]
          },
          "metadata": {
            "tags": []
          },
          "execution_count": 6
        }
      ]
    },
    {
      "cell_type": "code",
      "metadata": {
        "colab": {
          "base_uri": "https://localhost:8080/",
          "height": 35
        },
        "id": "TVvufsfxWmXB",
        "outputId": "453bada1-713c-4e58-fd2a-085a1a76a8ac"
      },
      "source": [
        " hex(8888888) "
      ],
      "execution_count": 18,
      "outputs": [
        {
          "output_type": "execute_result",
          "data": {
            "application/vnd.google.colaboratory.intrinsic+json": {
              "type": "string"
            },
            "text/plain": [
              "'0x87a238'"
            ]
          },
          "metadata": {
            "tags": []
          },
          "execution_count": 18
        }
      ]
    },
    {
      "cell_type": "code",
      "metadata": {
        "id": "CO_ruOF1Wrdx"
      },
      "source": [
        "int() "
      ],
      "execution_count": null,
      "outputs": []
    },
    {
      "cell_type": "markdown",
      "metadata": {
        "id": "cZeYHyhOW3DR"
      },
      "source": [
        "0b數值 == bin() == 2進位制\n",
        "0o數值 == oct() == 8進位制\n",
        "0x數值 == hex() == 16進位制\n",
        "數值 == int() == 10進位制"
      ]
    }
  ]
}